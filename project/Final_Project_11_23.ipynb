{
 "cells": [
  {
   "cell_type": "code",
   "execution_count": 1,
   "metadata": {},
   "outputs": [],
   "source": [
    "import numpy as np\n",
    "import pandas as pd \n",
    "import os\n",
    "import datetime\n",
    "import matplotlib.pyplot as plt\n",
    "import seaborn as sns\n",
    "import requests\n",
    "import csv\n",
    "from cloudmesh.common.StopWatch import StopWatch\n",
    "from tabulate import tabulate"
   ]
  },
  {
   "cell_type": "markdown",
   "metadata": {},
   "source": [
    "# Cloudmesh Benchmark"
   ]
  },
  {
   "cell_type": "code",
   "execution_count": 2,
   "metadata": {},
   "outputs": [],
   "source": [
    "StopWatch.start(\"a\")"
   ]
  },
  {
   "cell_type": "code",
   "execution_count": 3,
   "metadata": {},
   "outputs": [
    {
     "name": "stdout",
     "output_type": "stream",
     "text": [
      "a\n"
     ]
    }
   ],
   "source": [
    "print(\"a\")"
   ]
  },
  {
   "cell_type": "code",
   "execution_count": 4,
   "metadata": {},
   "outputs": [],
   "source": [
    "import time\n",
    "time.sleep(3)"
   ]
  },
  {
   "cell_type": "markdown",
   "metadata": {},
   "source": [
    "# Data Preparation"
   ]
  },
  {
   "cell_type": "code",
   "execution_count": 5,
   "metadata": {},
   "outputs": [],
   "source": [
    "def load_data(in_path, name):\n",
    "    df = pd.read_csv(in_path, low_memory=False)\n",
    "    #print(f\"{name}: shape is {df.shape}\")\n",
    "    #print(df.info())\n",
    "    #display(df.head(5))\n",
    "    return df"
   ]
  },
  {
   "cell_type": "markdown",
   "metadata": {},
   "source": [
    "# 2016 - 2018 Regular Season Analysis"
   ]
  },
  {
   "cell_type": "markdown",
   "metadata": {},
   "source": [
    "## Load Roster Data "
   ]
  },
  {
   "cell_type": "markdown",
   "metadata": {},
   "source": [
    "All files needed for analysis have been hosted at:\n",
    "https://drive.google.com/drive/folders/1o3ZpOyUBJUFi4M8n_2d_yxEQlzSoRJQk?usp=sharing"
   ]
  },
  {
   "cell_type": "code",
   "execution_count": 6,
   "metadata": {},
   "outputs": [],
   "source": [
    "DATA_DIR = \"C:/Users/travis/Dropbox (Arthroscopy Associa)/Travis/Desktop/IU Big Data Application/Final Project Data\"\n",
    "datasets={}"
   ]
  },
  {
   "cell_type": "code",
   "execution_count": 7,
   "metadata": {},
   "outputs": [],
   "source": [
    "reg_roster_2016 = load_data(os.path.join(DATA_DIR, f'reg_roster_2016.csv'), 'reg_roster_2016')\n",
    "reg_roster_2016['Made_Roster'] = 0\n",
    "\n",
    "post_roster_2016 = load_data(os.path.join(DATA_DIR, f'post_roster_2016.csv'), 'post_roster_2016')\n",
    "post_roster_2016['Made_Roster'] = 1\n",
    "\n",
    "roster_2016 = post_roster_2016.append(reg_roster_2016)"
   ]
  },
  {
   "cell_type": "code",
   "execution_count": 8,
   "metadata": {},
   "outputs": [],
   "source": [
    "years = [2017, 2018]"
   ]
  },
  {
   "cell_type": "code",
   "execution_count": 9,
   "metadata": {},
   "outputs": [],
   "source": [
    "roster_all = roster_2016.copy()\n",
    "\n",
    "for ii in years:\n",
    "    pre_name = 'reg_roster_' + str(ii)\n",
    "    pre_df = load_data(os.path.join(DATA_DIR, f'{pre_name}.csv'), pre_name)\n",
    "    #print(pre_df.shape)\n",
    "    \n",
    "    reg_name = 'post_roster_' + str(ii)\n",
    "    reg_df = load_data(os.path.join(DATA_DIR, f'{reg_name}.csv'), reg_name)\n",
    "    \n",
    "    roster_df = pre_df.assign(Made_Roster=pre_df.gsis_id.isin(reg_df.gsis_id).astype(int))\n",
    "    \n",
    "    roster_all = roster_all.append(roster_df)\n",
    "    #print(roster_all.shape)\n",
    "    \n",
    "roster_all = roster_all.drop(['season_type'], axis=1)"
   ]
  },
  {
   "cell_type": "markdown",
   "metadata": {},
   "source": [
    "## Transform Play-By-Play Data "
   ]
  },
  {
   "cell_type": "code",
   "execution_count": 10,
   "metadata": {},
   "outputs": [],
   "source": [
    "years.append(2016)"
   ]
  },
  {
   "cell_type": "code",
   "execution_count": 11,
   "metadata": {},
   "outputs": [],
   "source": [
    "columns = ['game_id', 'yardline_100', 'half_seconds_remaining', 'game_seconds_remaining', 'game_half', 'drive', 'qtr', 'down', \n",
    "           'goal_to_go', 'ydstogo', 'ydsnet', 'play_type', 'yards_gained','air_yards', 'yards_after_catch', \n",
    "           'two_point_converted', 'two_point_failed', 'third_down_converted', 'third_down_failed',\n",
    "           'fourth_down_converted', 'fourth_down_failed', 'incomplete_pass', 'interception', 'penalty', 'fumble_lost',\n",
    "           'touchdown', 'fumble', 'complete_pass', 'passer_player_id', 'receiver_player_id', 'rusher_player_id',\n",
    "           'fumbled_1_player_id', 'penalty_player_id', 'penalty_yards',\n",
    "           'unique_id', 'season', 'Two_Min', 'Redzone', 'Per_Yards_Gained', 'Success_Play']"
   ]
  },
  {
   "cell_type": "code",
   "execution_count": 12,
   "metadata": {},
   "outputs": [],
   "source": [
    "pbp_all = pd.DataFrame(columns = columns)\n",
    "\n",
    "for ii in years:\n",
    "    pbp_name = 'reg_pbp_' + str(ii)\n",
    "    pbp_df = load_data(os.path.join(DATA_DIR, f'{pbp_name}.csv'), pbp_name)\n",
    "    \n",
    "    #get unique ID for each play\n",
    "    pbp_df['unique_id'] = pbp_df['play_id'].astype(str) + pbp_df['game_id'].astype(str)\n",
    "    \n",
    "    #add year of game\n",
    "    pbp_df['season'] = ii\n",
    "    \n",
    "    #keep plays we are concerned with\n",
    "    pbp_df = pbp_df[(pbp_df.play_type == 'pass') | (pbp_df.play_type == 'run')]\n",
    "    \n",
    "    #encode two point conversions\n",
    "    two_conv_df = pbp_df[(pbp_df.two_point_conv_result == 'success')]\n",
    "    pbp_df = pbp_df.assign(two_point_converted=pbp_df.unique_id.isin(two_conv_df.unique_id).astype(int))\n",
    "    \n",
    "    two_fail_df = pbp_df[(pbp_df.two_point_conv_result == 'failure')]\n",
    "    pbp_df = pbp_df.assign(two_point_failed=pbp_df.unique_id.isin(two_fail_df.unique_id).astype(int))\n",
    "    \n",
    "    #flag plays in last two mins of a half\n",
    "    two_min_df = pbp_df[(pbp_df.half_seconds_remaining <= 120)]\n",
    "    pbp_df = pbp_df.assign(Two_Min=pbp_df.unique_id.isin(two_min_df.unique_id).astype(int))\n",
    "    \n",
    "    #flag red zone plays\n",
    "    red_df = pbp_df[(pbp_df.yardline_100 <= 20)]\n",
    "    pbp_df = pbp_df.assign(Redzone=pbp_df.unique_id.isin(red_df.unique_id).astype(int))\n",
    "    \n",
    "    \n",
    "    # flag success rate using Football Outsider's varsity formula\n",
    "    # https://www.footballoutsiders.com/info/glossary\n",
    "    pbp_df['Per_Yards_Gained'] = pbp_df.yards_gained / pbp_df.ydstogo\n",
    "    \n",
    "    suc_fir_df = pbp_df[(pbp_df.down == 1) & (pbp_df.Per_Yards_Gained >= .5)]\n",
    "    suc_sec_df = pbp_df[(pbp_df.down == 2) & (pbp_df.Per_Yards_Gained >= .7)]\n",
    "    suc_thi_df = pbp_df[(pbp_df.down == 3) & (pbp_df.Per_Yards_Gained >= 1)]\n",
    "    suc_fou_df = pbp_df[(pbp_df.down == 4) & (pbp_df.Per_Yards_Gained >= 1)]\n",
    "    \n",
    "    suc_all_df = pd.concat([suc_fir_df, suc_sec_df, suc_thi_df, suc_fou_df], axis=0, ignore_index=True)\n",
    "    \n",
    "    pbp_df = pbp_df.assign(Success_Play=pbp_df.unique_id.isin(suc_all_df.unique_id).astype(int))\n",
    "    \n",
    "    \n",
    "    #prepare final dataframe\n",
    "    pbp_df = pbp_df.fillna(0)\n",
    "    \n",
    "    pbp_all = pbp_all.append(pbp_df[columns])"
   ]
  },
  {
   "cell_type": "markdown",
   "metadata": {},
   "source": [
    "## Combine All Data "
   ]
  },
  {
   "cell_type": "code",
   "execution_count": 13,
   "metadata": {},
   "outputs": [],
   "source": [
    "agg_cols = ['yards_gained', 'two_point_converted', 'two_point_failed', 'third_down_converted', 'third_down_failed',\n",
    "            'fourth_down_converted', 'fourth_down_failed', 'touchdown', 'Two_Min', 'Redzone', 'Success_Play', 'Total_Plays',\n",
    "            'Q1_Plays', 'Q2_Plays', 'Q3_Plays', 'Q4_Plays']\n",
    "\n",
    "pass_cols = ['interception', 'incomplete_pass', 'complete_pass', 'air_yards', 'pass_yards', 'pass_touchdown', \n",
    "             'Success_Pass', 'Passer_Plays'] + agg_cols\n",
    "\n",
    "rec_cols = ['yards_after_catch', 'receiving_yards', 'receiving_touchdown', 'Success_Receive', 'Receiver_Plays'] + agg_cols\n",
    "\n",
    "rush_cols = ['rush_yards', 'rush_touchdown', 'Success_Rush', 'Run_Plays'] + agg_cols\n",
    "\n",
    "pen_cols = ['penalty', 'penalty_yards']\n",
    "\n",
    "fumb_cols = ['fumble_lost', 'fumble']"
   ]
  },
  {
   "cell_type": "code",
   "execution_count": 14,
   "metadata": {},
   "outputs": [],
   "source": [
    "all_cols = pass_cols + rec_cols + rush_cols + pen_cols + fumb_cols\n",
    "all_cols = list(set(all_cols))\n",
    "all_cols = sorted(all_cols, key=str.lower)"
   ]
  },
  {
   "cell_type": "code",
   "execution_count": 15,
   "metadata": {},
   "outputs": [
    {
     "name": "stderr",
     "output_type": "stream",
     "text": [
      "C:\\Users\\travis\\AppData\\Local\\Continuum\\anaconda3\\lib\\site-packages\\ipykernel_launcher.py:83: FutureWarning: Sorting because non-concatenation axis is not aligned. A future version\n",
      "of pandas will change to not sort by default.\n",
      "\n",
      "To accept the future behavior, pass 'sort=False'.\n",
      "\n",
      "To retain the current behavior and silence the warning, pass 'sort=True'.\n",
      "\n",
      "C:\\Users\\travis\\AppData\\Local\\Continuum\\anaconda3\\lib\\site-packages\\pandas\\core\\frame.py:7123: FutureWarning: Sorting because non-concatenation axis is not aligned. A future version\n",
      "of pandas will change to not sort by default.\n",
      "\n",
      "To accept the future behavior, pass 'sort=False'.\n",
      "\n",
      "To retain the current behavior and silence the warning, pass 'sort=True'.\n",
      "\n",
      "  sort=sort,\n"
     ]
    }
   ],
   "source": [
    "stats_df = pd.DataFrame(columns = all_cols)\n",
    "\n",
    "for ii in years:\n",
    "    year_df = pbp_all[(pbp_all.season == ii)].copy()\n",
    "    year_df['Total_Plays'] = 1\n",
    "    \n",
    "    #Add Plays in quarter    \n",
    "    q1_df = year_df[(year_df.qtr == 1)]\n",
    "    year_df = year_df.assign(Q1_Plays=year_df.unique_id.isin(q1_df.unique_id).astype(int))\n",
    "    \n",
    "    q2_df = year_df[(year_df.qtr == 2)]\n",
    "    year_df = year_df.assign(Q2_Plays=year_df.unique_id.isin(q2_df.unique_id).astype(int))\n",
    "    \n",
    "    q3_df = year_df[(year_df.qtr == 3)]\n",
    "    year_df = year_df.assign(Q3_Plays=year_df.unique_id.isin(q3_df.unique_id).astype(int))\n",
    "    \n",
    "    q4_df = year_df[(year_df.qtr == 4)]\n",
    "    year_df = year_df.assign(Q4_Plays=year_df.unique_id.isin(q4_df.unique_id).astype(int))\n",
    "    \n",
    "    #assemble passing stats\n",
    "    pass_df = year_df[(year_df.play_type == 'pass')]\n",
    "    pass_df = pass_df.infer_objects()  \n",
    "    pass_df['pass_yards'] = pass_df['yards_gained']\n",
    "    pass_df['pass_touchdown'] = pass_df['touchdown']\n",
    "    pass_df['Success_Pass'] = pass_df['Success_Play']\n",
    "    pass_df['Passer_Plays'] = 1\n",
    "    \n",
    "    pass_df = pass_df.groupby('passer_player_id').sum()    \n",
    "    pass_df = pass_df[pass_cols]\n",
    "    pass_df.index.name = 'player_id'\n",
    "    \n",
    "    \n",
    "    #assemble receiving stats\n",
    "    rec_df = year_df[(year_df.play_type == 'pass')]\n",
    "    rec_df = rec_df.infer_objects()\n",
    "    rec_df['receiving_yards'] = rec_df['yards_gained']\n",
    "    rec_df['receiving_touchdown'] = rec_df['touchdown']\n",
    "    rec_df['Success_Receive'] = rec_df['Success_Play']\n",
    "    rec_df['Receiver_Plays'] = 1\n",
    "    \n",
    "    rec_df = rec_df.groupby('receiver_player_id').sum()    \n",
    "    rec_df = rec_df[rec_cols]\n",
    "    \n",
    "    rec_df.index.name = 'player_id'\n",
    "    rec_df = rec_df.drop(rec_df.index[0])\n",
    "    \n",
    "    \n",
    "    #assemble rushing stats\n",
    "    rush_df = year_df[(year_df.play_type == 'run')]\n",
    "    rush_df = rush_df.infer_objects()\n",
    "    rush_df['rush_yards'] = rush_df['yards_gained']\n",
    "    rush_df['rush_touchdown'] = rush_df['touchdown']\n",
    "    rush_df['Success_Rush'] = rush_df['Success_Play']\n",
    "    rush_df['Run_Plays'] = 1\n",
    "    \n",
    "    rush_df = rush_df.groupby('rusher_player_id').sum()    \n",
    "    rush_df = rush_df[rush_cols]\n",
    "    \n",
    "    rush_df.index.name = 'player_id'\n",
    "    \n",
    "    \n",
    "    #assemble penalty stats\n",
    "    pen_df = year_df[(year_df.penalty == 1)]\n",
    "    pen_df = pen_df.infer_objects()\n",
    "    pen_df = pen_df.groupby('penalty_player_id').sum()    \n",
    "    pen_df = pen_df[pen_cols]\n",
    "    \n",
    "    pen_df.index.name = 'player_id'\n",
    "    pen_df = pen_df.drop(pen_df.index[0])\n",
    "    \n",
    "    \n",
    "    #assemble fumble stats\n",
    "    fumb_df = year_df[(year_df.fumble == 1)]\n",
    "    fumb_df = fumb_df.infer_objects()\n",
    "    \n",
    "    fumb_df = fumb_df.groupby('fumbled_1_player_id').sum()    \n",
    "    fumb_df = fumb_df[fumb_cols]\n",
    "    \n",
    "    fumb_df.index.name = 'player_id'\n",
    "    \n",
    "    \n",
    "    #combine stats\n",
    "    comb_df = pd.concat([pass_df, rec_df, rush_df, pen_df, fumb_df]).groupby(['player_id']).sum()\n",
    "    \n",
    "    \n",
    "    #join in player information\n",
    "    player_df = roster_all[(roster_all.season == ii)]\n",
    "    \n",
    "    player_df = player_df.set_index('gsis_id')\n",
    "    player_df.index.name = 'player_id'\n",
    "    \n",
    "    comb_df = comb_df.join(player_df)    \n",
    "    comb_df = comb_df.dropna(subset=['Made_Roster'])\n",
    "    \n",
    "    \n",
    "    #join all data into final dataframe\n",
    "    comb_df = comb_df.fillna(0)\n",
    "   \n",
    "    stats_df = stats_df.append(comb_df)"
   ]
  },
  {
   "cell_type": "code",
   "execution_count": 16,
   "metadata": {},
   "outputs": [],
   "source": [
    "#change the display formats on numbers for simplicity\n",
    "pd.options.display.float_format = '{:,.0f}'.format\n",
    "stats_df['season'] = pd.to_numeric(stats_df['season'], downcast='integer')"
   ]
  },
  {
   "cell_type": "code",
   "execution_count": 17,
   "metadata": {},
   "outputs": [
    {
     "name": "stdout",
     "output_type": "stream",
     "text": [
      "1730\n"
     ]
    },
    {
     "data": {
      "text/html": [
       "<div>\n",
       "<style scoped>\n",
       "    .dataframe tbody tr th:only-of-type {\n",
       "        vertical-align: middle;\n",
       "    }\n",
       "\n",
       "    .dataframe tbody tr th {\n",
       "        vertical-align: top;\n",
       "    }\n",
       "\n",
       "    .dataframe thead th {\n",
       "        text-align: right;\n",
       "    }\n",
       "</style>\n",
       "<table border=\"1\" class=\"dataframe\">\n",
       "  <thead>\n",
       "    <tr style=\"text-align: right;\">\n",
       "      <th></th>\n",
       "      <th>Made_Roster</th>\n",
       "      <th>Passer_Plays</th>\n",
       "      <th>Q1_Plays</th>\n",
       "      <th>Q2_Plays</th>\n",
       "      <th>Q3_Plays</th>\n",
       "      <th>Q4_Plays</th>\n",
       "      <th>Receiver_Plays</th>\n",
       "      <th>Redzone</th>\n",
       "      <th>Run_Plays</th>\n",
       "      <th>Success_Pass</th>\n",
       "      <th>...</th>\n",
       "      <th>rush_yards</th>\n",
       "      <th>season</th>\n",
       "      <th>team</th>\n",
       "      <th>third_down_converted</th>\n",
       "      <th>third_down_failed</th>\n",
       "      <th>touchdown</th>\n",
       "      <th>two_point_converted</th>\n",
       "      <th>two_point_failed</th>\n",
       "      <th>yards_after_catch</th>\n",
       "      <th>yards_gained</th>\n",
       "    </tr>\n",
       "  </thead>\n",
       "  <tbody>\n",
       "    <tr>\n",
       "      <td>00-0019596</td>\n",
       "      <td>1</td>\n",
       "      <td>614</td>\n",
       "      <td>160</td>\n",
       "      <td>186</td>\n",
       "      <td>144</td>\n",
       "      <td>138</td>\n",
       "      <td>0</td>\n",
       "      <td>102</td>\n",
       "      <td>14</td>\n",
       "      <td>292</td>\n",
       "      <td>...</td>\n",
       "      <td>39</td>\n",
       "      <td>2017</td>\n",
       "      <td>NE</td>\n",
       "      <td>68</td>\n",
       "      <td>94</td>\n",
       "      <td>35</td>\n",
       "      <td>2</td>\n",
       "      <td>0</td>\n",
       "      <td>0</td>\n",
       "      <td>4,393</td>\n",
       "    </tr>\n",
       "    <tr>\n",
       "      <td>00-0020531</td>\n",
       "      <td>1</td>\n",
       "      <td>552</td>\n",
       "      <td>129</td>\n",
       "      <td>157</td>\n",
       "      <td>137</td>\n",
       "      <td>145</td>\n",
       "      <td>0</td>\n",
       "      <td>90</td>\n",
       "      <td>16</td>\n",
       "      <td>263</td>\n",
       "      <td>...</td>\n",
       "      <td>32</td>\n",
       "      <td>2017</td>\n",
       "      <td>NO</td>\n",
       "      <td>59</td>\n",
       "      <td>99</td>\n",
       "      <td>26</td>\n",
       "      <td>0</td>\n",
       "      <td>0</td>\n",
       "      <td>0</td>\n",
       "      <td>4,225</td>\n",
       "    </tr>\n",
       "    <tr>\n",
       "      <td>00-0021206</td>\n",
       "      <td>0</td>\n",
       "      <td>430</td>\n",
       "      <td>87</td>\n",
       "      <td>130</td>\n",
       "      <td>111</td>\n",
       "      <td>120</td>\n",
       "      <td>0</td>\n",
       "      <td>51</td>\n",
       "      <td>23</td>\n",
       "      <td>178</td>\n",
       "      <td>...</td>\n",
       "      <td>138</td>\n",
       "      <td>2017</td>\n",
       "      <td>NYJ</td>\n",
       "      <td>64</td>\n",
       "      <td>87</td>\n",
       "      <td>25</td>\n",
       "      <td>0</td>\n",
       "      <td>1</td>\n",
       "      <td>0</td>\n",
       "      <td>2,800</td>\n",
       "    </tr>\n",
       "    <tr>\n",
       "      <td>00-0021429</td>\n",
       "      <td>0</td>\n",
       "      <td>289</td>\n",
       "      <td>65</td>\n",
       "      <td>87</td>\n",
       "      <td>44</td>\n",
       "      <td>94</td>\n",
       "      <td>0</td>\n",
       "      <td>43</td>\n",
       "      <td>8</td>\n",
       "      <td>123</td>\n",
       "      <td>...</td>\n",
       "      <td>18</td>\n",
       "      <td>2017</td>\n",
       "      <td>ARI</td>\n",
       "      <td>33</td>\n",
       "      <td>54</td>\n",
       "      <td>11</td>\n",
       "      <td>0</td>\n",
       "      <td>1</td>\n",
       "      <td>0</td>\n",
       "      <td>1,837</td>\n",
       "    </tr>\n",
       "    <tr>\n",
       "      <td>00-0021547</td>\n",
       "      <td>0</td>\n",
       "      <td>0</td>\n",
       "      <td>7</td>\n",
       "      <td>21</td>\n",
       "      <td>12</td>\n",
       "      <td>13</td>\n",
       "      <td>53</td>\n",
       "      <td>12</td>\n",
       "      <td>0</td>\n",
       "      <td>0</td>\n",
       "      <td>...</td>\n",
       "      <td>0</td>\n",
       "      <td>2017</td>\n",
       "      <td>LAC</td>\n",
       "      <td>4</td>\n",
       "      <td>11</td>\n",
       "      <td>3</td>\n",
       "      <td>0</td>\n",
       "      <td>1</td>\n",
       "      <td>66</td>\n",
       "      <td>316</td>\n",
       "    </tr>\n",
       "  </tbody>\n",
       "</table>\n",
       "<p>5 rows × 43 columns</p>\n",
       "</div>"
      ],
      "text/plain": [
       "            Made_Roster  Passer_Plays  Q1_Plays  Q2_Plays  Q3_Plays  Q4_Plays  \\\n",
       "00-0019596            1           614       160       186       144       138   \n",
       "00-0020531            1           552       129       157       137       145   \n",
       "00-0021206            0           430        87       130       111       120   \n",
       "00-0021429            0           289        65        87        44        94   \n",
       "00-0021547            0             0         7        21        12        13   \n",
       "\n",
       "            Receiver_Plays  Redzone  Run_Plays  Success_Pass  ...  rush_yards  \\\n",
       "00-0019596               0      102         14           292  ...          39   \n",
       "00-0020531               0       90         16           263  ...          32   \n",
       "00-0021206               0       51         23           178  ...         138   \n",
       "00-0021429               0       43          8           123  ...          18   \n",
       "00-0021547              53       12          0             0  ...           0   \n",
       "\n",
       "            season  team  third_down_converted  third_down_failed touchdown  \\\n",
       "00-0019596    2017    NE                    68                 94        35   \n",
       "00-0020531    2017    NO                    59                 99        26   \n",
       "00-0021206    2017   NYJ                    64                 87        25   \n",
       "00-0021429    2017   ARI                    33                 54        11   \n",
       "00-0021547    2017   LAC                     4                 11         3   \n",
       "\n",
       "            two_point_converted  two_point_failed  yards_after_catch  \\\n",
       "00-0019596                    2                 0                  0   \n",
       "00-0020531                    0                 0                  0   \n",
       "00-0021206                    0                 1                  0   \n",
       "00-0021429                    0                 1                  0   \n",
       "00-0021547                    0                 1                 66   \n",
       "\n",
       "            yards_gained  \n",
       "00-0019596         4,393  \n",
       "00-0020531         4,225  \n",
       "00-0021206         2,800  \n",
       "00-0021429         1,837  \n",
       "00-0021547           316  \n",
       "\n",
       "[5 rows x 43 columns]"
      ]
     },
     "execution_count": 17,
     "metadata": {},
     "output_type": "execute_result"
    }
   ],
   "source": [
    "print(len(stats_df))\n",
    "stats_df.head()"
   ]
  },
  {
   "cell_type": "markdown",
   "metadata": {},
   "source": [
    "## Visualizations "
   ]
  },
  {
   "cell_type": "code",
   "execution_count": 18,
   "metadata": {},
   "outputs": [
    {
     "data": {
      "text/plain": [
       "<matplotlib.legend.Legend at 0x24a4facc308>"
      ]
     },
     "execution_count": 18,
     "metadata": {},
     "output_type": "execute_result"
    },
    {
     "data": {
      "image/png": "[encoded data removed]",
      "text/plain": [
       "<Figure size 432x288 with 1 Axes>"
      ]
     },
     "metadata": {
      "needs_background": "light"
     },
     "output_type": "display_data"
    }
   ],
   "source": [
    "\n",
    "ax = stats_df.groupby(['position', 'Made_Roster']).size().unstack().plot(kind='bar', stacked=True)\n",
    "ax.set_ylabel('Player Count')\n",
    "ax.set_xlabel('Position')\n",
    "ax.set_title('Regular Season to Post Season Players by Position(2016-2018)')\n",
    "ax.legend(['No Post', 'Post Season'])"
   ]
  },
  {
   "cell_type": "code",
   "execution_count": 19,
   "metadata": {},
   "outputs": [
    {
     "data": {
      "image/png": "[encoded data removed]",
      "text/plain": [
       "<Figure size 432x288 with 1 Axes>"
      ]
     },
     "metadata": {
      "needs_background": "light"
     },
     "output_type": "display_data"
    }
   ],
   "source": [
    "sns.countplot(x=\"season\", data=stats_df);"
   ]
  },
  {
   "cell_type": "code",
   "execution_count": 20,
   "metadata": {},
   "outputs": [
    {
     "data": {
      "image/png": "[encoded data removed]",
      "text/plain": [
       "<Figure size 432x288 with 1 Axes>"
      ]
     },
     "metadata": {
      "needs_background": "light"
     },
     "output_type": "display_data"
    }
   ],
   "source": [
    "sns.countplot(x=\"season\", data=stats_df[stats_df['Made_Roster'] == 1]);"
   ]
  },
  {
   "cell_type": "code",
   "execution_count": 21,
   "metadata": {},
   "outputs": [
    {
     "name": "stderr",
     "output_type": "stream",
     "text": [
      "C:\\Users\\travis\\AppData\\Local\\Continuum\\anaconda3\\lib\\site-packages\\pandas\\plotting\\_matplotlib\\tools.py:307: MatplotlibDeprecationWarning: \n",
      "The rowNum attribute was deprecated in Matplotlib 3.2 and will be removed two minor releases later. Use ax.get_subplotspec().rowspan.start instead.\n",
      "  layout[ax.rowNum, ax.colNum] = ax.get_visible()\n",
      "C:\\Users\\travis\\AppData\\Local\\Continuum\\anaconda3\\lib\\site-packages\\pandas\\plotting\\_matplotlib\\tools.py:307: MatplotlibDeprecationWarning: \n",
      "The colNum attribute was deprecated in Matplotlib 3.2 and will be removed two minor releases later. Use ax.get_subplotspec().colspan.start instead.\n",
      "  layout[ax.rowNum, ax.colNum] = ax.get_visible()\n",
      "C:\\Users\\travis\\AppData\\Local\\Continuum\\anaconda3\\lib\\site-packages\\pandas\\plotting\\_matplotlib\\tools.py:313: MatplotlibDeprecationWarning: \n",
      "The rowNum attribute was deprecated in Matplotlib 3.2 and will be removed two minor releases later. Use ax.get_subplotspec().rowspan.start instead.\n",
      "  if not layout[ax.rowNum + 1, ax.colNum]:\n",
      "C:\\Users\\travis\\AppData\\Local\\Continuum\\anaconda3\\lib\\site-packages\\pandas\\plotting\\_matplotlib\\tools.py:313: MatplotlibDeprecationWarning: \n",
      "The colNum attribute was deprecated in Matplotlib 3.2 and will be removed two minor releases later. Use ax.get_subplotspec().colspan.start instead.\n",
      "  if not layout[ax.rowNum + 1, ax.colNum]:\n",
      "C:\\Users\\travis\\AppData\\Local\\Continuum\\anaconda3\\lib\\site-packages\\pandas\\plotting\\_matplotlib\\tools.py:307: MatplotlibDeprecationWarning: \n",
      "The rowNum attribute was deprecated in Matplotlib 3.2 and will be removed two minor releases later. Use ax.get_subplotspec().rowspan.start instead.\n",
      "  layout[ax.rowNum, ax.colNum] = ax.get_visible()\n",
      "C:\\Users\\travis\\AppData\\Local\\Continuum\\anaconda3\\lib\\site-packages\\pandas\\plotting\\_matplotlib\\tools.py:307: MatplotlibDeprecationWarning: \n",
      "The colNum attribute was deprecated in Matplotlib 3.2 and will be removed two minor releases later. Use ax.get_subplotspec().colspan.start instead.\n",
      "  layout[ax.rowNum, ax.colNum] = ax.get_visible()\n",
      "C:\\Users\\travis\\AppData\\Local\\Continuum\\anaconda3\\lib\\site-packages\\pandas\\plotting\\_matplotlib\\tools.py:313: MatplotlibDeprecationWarning: \n",
      "The rowNum attribute was deprecated in Matplotlib 3.2 and will be removed two minor releases later. Use ax.get_subplotspec().rowspan.start instead.\n",
      "  if not layout[ax.rowNum + 1, ax.colNum]:\n",
      "C:\\Users\\travis\\AppData\\Local\\Continuum\\anaconda3\\lib\\site-packages\\pandas\\plotting\\_matplotlib\\tools.py:313: MatplotlibDeprecationWarning: \n",
      "The colNum attribute was deprecated in Matplotlib 3.2 and will be removed two minor releases later. Use ax.get_subplotspec().colspan.start instead.\n",
      "  if not layout[ax.rowNum + 1, ax.colNum]:\n"
     ]
    },
    {
     "data": {
      "image/png": "[encoded data removed]",
      "text/plain": [
       "<Figure size 720x720 with 4 Axes>"
      ]
     },
     "metadata": {
      "needs_background": "light"
     },
     "output_type": "display_data"
    }
   ],
   "source": [
    "f = plt.figure(figsize=(10,10))\n",
    "\n",
    "quarters = [1, 2, 3, 4]\n",
    "for ii, jj in enumerate(quarters):\n",
    "    plt.subplot(2,2,ii+1).set_ylim(0, 50)\n",
    "    plt.title(\"Quarter \" + str(jj))\n",
    "    stats_df['Q' + str(jj) + '_Plays'].groupby(stats_df['Made_Roster']).mean().plot(kind='bar')\n",
    "    plt.ylabel('Average Play Count')\n",
    "    plt.xlabel('')\n",
    "    plt.xticks([0,1], ['No Post', 'Post Season'])\n",
    "    \n",
    "f.subplots_adjust(hspace = .3)"
   ]
  },
  {
   "cell_type": "code",
   "execution_count": 22,
   "metadata": {},
   "outputs": [
    {
     "data": {
      "image/png": "[encoded data removed]",
      "text/plain": [
       "<Figure size 864x288 with 3 Axes>"
      ]
     },
     "metadata": {
      "needs_background": "light"
     },
     "output_type": "display_data"
    }
   ],
   "source": [
    "f = plt.figure(figsize=(12,4))\n",
    "\n",
    "quarters = ['Passer', 'Receiver', 'Run']\n",
    "for ii, jj in enumerate(quarters):\n",
    "    plt.subplot(1,3,ii+1)\n",
    "    plt.title(str(jj) + ' Plays')\n",
    "    plt.ylabel('Count of Plays')\n",
    "    plt.xlabel(' ')\n",
    "    stats_df[str(jj) + '_Plays'].groupby(stats_df['Made_Roster']).mean().plot(kind='bar')\n",
    "    plt.xticks([0,1], ['No Post', 'Post Season'])"
   ]
  },
  {
   "cell_type": "code",
   "execution_count": 23,
   "metadata": {},
   "outputs": [],
   "source": [
    "from sklearn.preprocessing import OneHotEncoder\n",
    "from sklearn.linear_model import LogisticRegression\n",
    "from sklearn.model_selection import train_test_split\n",
    "from sklearn.feature_selection import SelectKBest, f_classif\n",
    "from statistics import mean\n",
    "\n",
    "import warnings\n",
    "warnings.filterwarnings('ignore')"
   ]
  },
  {
   "cell_type": "code",
   "execution_count": 24,
   "metadata": {},
   "outputs": [],
   "source": [
    "X = stats_df.copy()\n",
    "y = stats_df[['Made_Roster']]\n",
    "\n",
    "ohe_df = pd.get_dummies(X.position)\n",
    "X = pd.concat([X, ohe_df], axis=1).drop(columns=['Made_Roster',\n",
    "                                                      'full_player_name', 'abbr_player_name', 'team', 'position', 'season'])\n",
    "\n",
    "feature_names = list(X)"
   ]
  },
  {
   "cell_type": "code",
   "execution_count": 25,
   "metadata": {},
   "outputs": [
    {
     "data": {
      "text/plain": [
       "0.7816955684007707"
      ]
     },
     "execution_count": 25,
     "metadata": {},
     "output_type": "execute_result"
    }
   ],
   "source": [
    "score = []\n",
    "\n",
    "for ii in range(1, 31):\n",
    "    X_train, X_test, y_train, y_test = train_test_split(X, y, test_size=0.3, random_state=ii)\n",
    "    \n",
    "    logreg = LogisticRegression(solver='saga')\n",
    "    logreg.fit(X_train, y_train)\n",
    "    score.append(logreg.score(X_test, y_test))\n",
    "    \n",
    "mean(score)"
   ]
  },
  {
   "cell_type": "code",
   "execution_count": 26,
   "metadata": {},
   "outputs": [
    {
     "data": {
      "text/plain": [
       "SelectKBest(k='all', score_func=<function f_classif at 0x0000024A4F11C0D8>)"
      ]
     },
     "execution_count": 26,
     "metadata": {},
     "output_type": "execute_result"
    }
   ],
   "source": [
    "X_train, X_test, y_train, y_test = train_test_split(X, y, test_size=0.3, random_state=100)\n",
    "\n",
    "model_ftest = SelectKBest(score_func=f_classif, k='all')\n",
    "model_ftest.fit(X_train, y_train)"
   ]
  },
  {
   "cell_type": "code",
   "execution_count": 27,
   "metadata": {},
   "outputs": [],
   "source": [
    "ftest_scores = model_ftest.scores_\n",
    "ftest_pvalues = model_ftest.pvalues_"
   ]
  },
  {
   "cell_type": "code",
   "execution_count": 28,
   "metadata": {},
   "outputs": [
    {
     "name": "stdout",
     "output_type": "stream",
     "text": [
      "|    | feature             | description                                |\n",
      "|----|---------------------|--------------------------------------------|\n",
      "|  0 | Success_Receive     | Succesful Reception by Receiver            |\n",
      "|  1 | receiving_yards     | Total receiving yards for receiver by play |\n",
      "|  2 | yards_after_catch   | Yards gained after succesful reception     |\n",
      "|  3 | receiving_touchdown | Total count of receiving touchdowns        |\n",
      "|  4 | touchdown           | Total count of touchdowns                  |\n",
      "|  5 | Receiver_Plays      | Plays that targeted a receiver             |\n",
      "|  6 | Redzone             | Total plays inside opp. 20 yardline        |\n",
      "|  7 | Success_Play        | Plays resulting in pos. yards              |\n",
      "|  8 | yards_gained        | Total yards gained                         |\n",
      "|  9 | Q3_Plays            | Plays in third quarter possesing ball      |\n",
      "| 10 | Q2_Plays            | Plays in second quarter possesing ball     |\n"
     ]
    }
   ],
   "source": [
    "descriptDf = pd.DataFrame()\n",
    "descriptDf['feature'] = ['Success_Receive', 'receiving_yards', 'yards_after_catch', 'receiving_touchdown', 'touchdown', 'Receiver_Plays', 'Redzone', 'Success_Play', 'yards_gained', 'Q3_Plays', 'Q2_Plays']\n",
    "descriptDf['description'] = ['Succesful Reception by Receiver', 'Total receiving yards for receiver by play', 'Yards gained after succesful reception', 'Total count of receiving touchdowns', 'Total count of touchdowns', 'Plays that targeted a receiver', 'Total plays inside opp. 20 yardline', 'Plays resulting in pos. yards', 'Total yards gained', 'Plays in third quarter possesing ball', 'Plays in second quarter possesing ball']\n",
    "print(tabulate(descriptDf, tablefmt=\"github\", headers=\"keys\"))"
   ]
  },
  {
   "cell_type": "code",
   "execution_count": 29,
   "metadata": {},
   "outputs": [
    {
     "name": "stdout",
     "output_type": "stream",
     "text": [
      "|    | feature             |   f value |     p-value |\n",
      "|----|---------------------|-----------|-------------|\n",
      "| 35 | yards_after_catch   |   57.8926 | 5.54621e-14 |\n",
      "| 27 | receiving_yards     |   48.8605 | 4.53299e-12 |\n",
      "| 10 | Success_Receive     |   47.5684 | 8.5423e-12  |\n",
      "|  5 | Receiver_Plays      |   41.4178 | 1.76819e-10 |\n",
      "| 26 | receiving_touchdown |   41.1853 | 1.98367e-10 |\n",
      "|  6 | Redzone             |   31.4269 | 2.56356e-08 |\n",
      "| 32 | touchdown           |   30.5924 | 3.8986e-08  |\n",
      "| 36 | yards_gained        |   28.6274 | 1.04864e-07 |\n",
      "|  9 | Success_Play        |   27.1326 | 2.23132e-07 |\n",
      "|  2 | Q2_Plays            |   23.8473 | 1.18257e-06 |\n"
     ]
    }
   ],
   "source": [
    "ftest_all = pd.DataFrame(list(zip(feature_names, ftest_scores, ftest_pvalues)), columns=['feature', 'f value', 'p-value'])\n",
    "pd.options.display.float_format = '{:.02f}'.format\n",
    "ftest_all2 = ftest_all.sort_values('p-value').head(10)\n",
    "print(tabulate(ftest_all2, tablefmt=\"github\", headers=\"keys\"))"
   ]
  },
  {
   "cell_type": "code",
   "execution_count": 30,
   "metadata": {},
   "outputs": [
    {
     "name": "stdout",
     "output_type": "stream",
     "text": [
      "26\n"
     ]
    },
    {
     "data": {
      "text/plain": [
       "<matplotlib.axes._subplots.AxesSubplot at 0x24a5283b948>"
      ]
     },
     "execution_count": 30,
     "metadata": {},
     "output_type": "execute_result"
    },
    {
     "data": {
      "image/png": "[encoded data removed]",
      "text/plain": [
       "<Figure size 864x288 with 1 Axes>"
      ]
     },
     "metadata": {
      "needs_background": "light"
     },
     "output_type": "display_data"
    }
   ],
   "source": [
    "ftest_sig = ftest_all[ftest_all['p-value'] <= .05].sort_values('f value', ascending=False)\n",
    "print(len(ftest_sig))\n",
    "ftest_plot = ftest_sig.head(50)\n",
    "ftest_plot.plot.bar(x='feature', y='f value', title='f value of significant features (p<.05)', figsize=(12,4))"
   ]
  },
  {
   "cell_type": "markdown",
   "metadata": {},
   "source": [
    "# 2009 - 2011 Regular Season Analysis"
   ]
  },
  {
   "cell_type": "markdown",
   "metadata": {},
   "source": [
    "## Load Roster Data "
   ]
  },
  {
   "cell_type": "code",
   "execution_count": 31,
   "metadata": {},
   "outputs": [],
   "source": [
    "DATA_DIR = \"C:/Users/travis/Dropbox (Arthroscopy Associa)/Travis/Desktop/IU Big Data Application/Final_Project_2\"\n",
    "datasets={}"
   ]
  },
  {
   "cell_type": "code",
   "execution_count": 32,
   "metadata": {},
   "outputs": [],
   "source": [
    "reg_roster_2009 = load_data(os.path.join(DATA_DIR, f'reg_roster_2009.csv'), 'reg_roster_2009')\n",
    "reg_roster_2009['Made_Roster'] = 0\n",
    "\n",
    "post_roster_2009 = load_data(os.path.join(DATA_DIR, f'post_roster_2009.csv'), 'post_roster_2009')\n",
    "post_roster_2009['Made_Roster'] = 1\n",
    "\n",
    "roster_2009 = post_roster_2009.append(reg_roster_2009)"
   ]
  },
  {
   "cell_type": "code",
   "execution_count": 33,
   "metadata": {},
   "outputs": [],
   "source": [
    "years = [2010, 2011]"
   ]
  },
  {
   "cell_type": "code",
   "execution_count": 34,
   "metadata": {},
   "outputs": [],
   "source": [
    "roster_all = roster_2009.copy()\n",
    "\n",
    "for ii in years:\n",
    "    pre_name = 'reg_roster_' + str(ii)\n",
    "    pre_df = load_data(os.path.join(DATA_DIR, f'{pre_name}.csv'), pre_name)\n",
    "    #print(pre_df.shape)\n",
    "    \n",
    "    reg_name = 'post_roster_' + str(ii)\n",
    "    reg_df = load_data(os.path.join(DATA_DIR, f'{reg_name}.csv'), reg_name)\n",
    "    \n",
    "    roster_df = pre_df.assign(Made_Roster=pre_df.gsis_id.isin(reg_df.gsis_id).astype(int))\n",
    "    \n",
    "    roster_all = roster_all.append(roster_df)\n",
    "    #print(roster_all.shape)\n",
    "    \n",
    "roster_all = roster_all.drop(['season_type'], axis=1)"
   ]
  },
  {
   "cell_type": "markdown",
   "metadata": {},
   "source": [
    "## Transform Play-By-Play Data "
   ]
  },
  {
   "cell_type": "code",
   "execution_count": 35,
   "metadata": {},
   "outputs": [],
   "source": [
    "years.append(2009)"
   ]
  },
  {
   "cell_type": "code",
   "execution_count": 36,
   "metadata": {},
   "outputs": [],
   "source": [
    "columns = ['game_id', 'yardline_100', 'half_seconds_remaining', 'game_seconds_remaining', 'game_half', 'drive', 'qtr', 'down', \n",
    "           'goal_to_go', 'ydstogo', 'ydsnet', 'play_type', 'yards_gained','air_yards', 'yards_after_catch', \n",
    "           'two_point_converted', 'two_point_failed', 'third_down_converted', 'third_down_failed',\n",
    "           'fourth_down_converted', 'fourth_down_failed', 'incomplete_pass', 'interception', 'penalty', 'fumble_lost',\n",
    "           'touchdown', 'fumble', 'complete_pass', 'passer_player_id', 'receiver_player_id', 'rusher_player_id',\n",
    "           'fumbled_1_player_id', 'penalty_player_id', 'penalty_yards',\n",
    "           'unique_id', 'season', 'Two_Min', 'Redzone', 'Per_Yards_Gained', 'Success_Play']"
   ]
  },
  {
   "cell_type": "code",
   "execution_count": 37,
   "metadata": {},
   "outputs": [],
   "source": [
    "pbp_all = pd.DataFrame(columns = columns)\n",
    "\n",
    "for ii in years:\n",
    "    pbp_name = 'reg_pbp_' + str(ii)\n",
    "    pbp_df = load_data(os.path.join(DATA_DIR, f'{pbp_name}.csv'), pbp_name)\n",
    "    \n",
    "    #get unique ID for each play\n",
    "    pbp_df['unique_id'] = pbp_df['play_id'].astype(str) + pbp_df['game_id'].astype(str)\n",
    "    \n",
    "    #add year of game\n",
    "    pbp_df['season'] = ii\n",
    "    \n",
    "    #keep plays we are concerned with\n",
    "    pbp_df = pbp_df[(pbp_df.play_type == 'pass') | (pbp_df.play_type == 'run')]\n",
    "    \n",
    "    #encode two point conversions\n",
    "    two_conv_df = pbp_df[(pbp_df.two_point_conv_result == 'success')]\n",
    "    pbp_df = pbp_df.assign(two_point_converted=pbp_df.unique_id.isin(two_conv_df.unique_id).astype(int))\n",
    "    \n",
    "    two_fail_df = pbp_df[(pbp_df.two_point_conv_result == 'failure')]\n",
    "    pbp_df = pbp_df.assign(two_point_failed=pbp_df.unique_id.isin(two_fail_df.unique_id).astype(int))\n",
    "    \n",
    "    #flag plays in last two mins of a half\n",
    "    two_min_df = pbp_df[(pbp_df.half_seconds_remaining <= 120)]\n",
    "    pbp_df = pbp_df.assign(Two_Min=pbp_df.unique_id.isin(two_min_df.unique_id).astype(int))\n",
    "    \n",
    "    #flag red zone plays\n",
    "    red_df = pbp_df[(pbp_df.yardline_100 <= 20)]\n",
    "    pbp_df = pbp_df.assign(Redzone=pbp_df.unique_id.isin(red_df.unique_id).astype(int))\n",
    "    \n",
    "    \n",
    "    # flag success rate using Football Outsider's varsity formula\n",
    "    # https://www.footballoutsiders.com/info/glossary\n",
    "    pbp_df['Per_Yards_Gained'] = pbp_df.yards_gained / pbp_df.ydstogo\n",
    "    \n",
    "    suc_fir_df = pbp_df[(pbp_df.down == 1) & (pbp_df.Per_Yards_Gained >= .5)]\n",
    "    suc_sec_df = pbp_df[(pbp_df.down == 2) & (pbp_df.Per_Yards_Gained >= .7)]\n",
    "    suc_thi_df = pbp_df[(pbp_df.down == 3) & (pbp_df.Per_Yards_Gained >= 1)]\n",
    "    suc_fou_df = pbp_df[(pbp_df.down == 4) & (pbp_df.Per_Yards_Gained >= 1)]\n",
    "    \n",
    "    suc_all_df = pd.concat([suc_fir_df, suc_sec_df, suc_thi_df, suc_fou_df], axis=0, ignore_index=True)\n",
    "    \n",
    "    pbp_df = pbp_df.assign(Success_Play=pbp_df.unique_id.isin(suc_all_df.unique_id).astype(int))\n",
    "    \n",
    "    \n",
    "    #prepare final dataframe\n",
    "    pbp_df = pbp_df.fillna(0)\n",
    "    \n",
    "    pbp_all = pbp_all.append(pbp_df[columns])"
   ]
  },
  {
   "cell_type": "markdown",
   "metadata": {},
   "source": [
    "## Combine All Data "
   ]
  },
  {
   "cell_type": "code",
   "execution_count": 38,
   "metadata": {},
   "outputs": [],
   "source": [
    "agg_cols = ['yards_gained', 'two_point_converted', 'two_point_failed', 'third_down_converted', 'third_down_failed',\n",
    "            'fourth_down_converted', 'fourth_down_failed', 'touchdown', 'Two_Min', 'Redzone', 'Success_Play', 'Total_Plays',\n",
    "            'Q1_Plays', 'Q2_Plays', 'Q3_Plays', 'Q4_Plays']\n",
    "\n",
    "pass_cols = ['interception', 'incomplete_pass', 'complete_pass', 'air_yards', 'pass_yards', 'pass_touchdown', \n",
    "             'Success_Pass', 'Passer_Plays'] + agg_cols\n",
    "\n",
    "rec_cols = ['yards_after_catch', 'receiving_yards', 'receiving_touchdown', 'Success_Receive', 'Receiver_Plays'] + agg_cols\n",
    "\n",
    "rush_cols = ['rush_yards', 'rush_touchdown', 'Success_Rush', 'Run_Plays'] + agg_cols\n",
    "\n",
    "pen_cols = ['penalty', 'penalty_yards']\n",
    "\n",
    "fumb_cols = ['fumble_lost', 'fumble']"
   ]
  },
  {
   "cell_type": "code",
   "execution_count": 39,
   "metadata": {},
   "outputs": [],
   "source": [
    "all_cols = pass_cols + rec_cols + rush_cols + pen_cols + fumb_cols\n",
    "all_cols = list(set(all_cols))\n",
    "all_cols = sorted(all_cols, key=str.lower)"
   ]
  },
  {
   "cell_type": "code",
   "execution_count": 40,
   "metadata": {},
   "outputs": [],
   "source": [
    "stats_df = pd.DataFrame(columns = all_cols)\n",
    "\n",
    "for ii in years:\n",
    "    year_df = pbp_all[(pbp_all.season == ii)].copy()\n",
    "    year_df['Total_Plays'] = 1\n",
    "    \n",
    "    #Add Plays in quarter    \n",
    "    q1_df = year_df[(year_df.qtr == 1)]\n",
    "    year_df = year_df.assign(Q1_Plays=year_df.unique_id.isin(q1_df.unique_id).astype(int))\n",
    "    \n",
    "    q2_df = year_df[(year_df.qtr == 2)]\n",
    "    year_df = year_df.assign(Q2_Plays=year_df.unique_id.isin(q2_df.unique_id).astype(int))\n",
    "    \n",
    "    q3_df = year_df[(year_df.qtr == 3)]\n",
    "    year_df = year_df.assign(Q3_Plays=year_df.unique_id.isin(q3_df.unique_id).astype(int))\n",
    "    \n",
    "    q4_df = year_df[(year_df.qtr == 4)]\n",
    "    year_df = year_df.assign(Q4_Plays=year_df.unique_id.isin(q4_df.unique_id).astype(int))\n",
    "    \n",
    "    #assemble passing stats\n",
    "    pass_df = year_df[(year_df.play_type == 'pass')]\n",
    "    pass_df = pass_df.infer_objects()  \n",
    "    pass_df['pass_yards'] = pass_df['yards_gained']\n",
    "    pass_df['pass_touchdown'] = pass_df['touchdown']\n",
    "    pass_df['Success_Pass'] = pass_df['Success_Play']\n",
    "    pass_df['Passer_Plays'] = 1\n",
    "    \n",
    "    pass_df = pass_df.groupby('passer_player_id').sum()    \n",
    "    pass_df = pass_df[pass_cols]\n",
    "    pass_df.index.name = 'player_id'\n",
    "    \n",
    "    \n",
    "    #assemble receiving stats\n",
    "    rec_df = year_df[(year_df.play_type == 'pass')]\n",
    "    rec_df = rec_df.infer_objects()\n",
    "    rec_df['receiving_yards'] = rec_df['yards_gained']\n",
    "    rec_df['receiving_touchdown'] = rec_df['touchdown']\n",
    "    rec_df['Success_Receive'] = rec_df['Success_Play']\n",
    "    rec_df['Receiver_Plays'] = 1\n",
    "    \n",
    "    rec_df = rec_df.groupby('receiver_player_id').sum()    \n",
    "    rec_df = rec_df[rec_cols]\n",
    "    \n",
    "    rec_df.index.name = 'player_id'\n",
    "    rec_df = rec_df.drop(rec_df.index[0])\n",
    "    \n",
    "    \n",
    "    #assemble rushing stats\n",
    "    rush_df = year_df[(year_df.play_type == 'run')]\n",
    "    rush_df = rush_df.infer_objects()\n",
    "    rush_df['rush_yards'] = rush_df['yards_gained']\n",
    "    rush_df['rush_touchdown'] = rush_df['touchdown']\n",
    "    rush_df['Success_Rush'] = rush_df['Success_Play']\n",
    "    rush_df['Run_Plays'] = 1\n",
    "    \n",
    "    rush_df = rush_df.groupby('rusher_player_id').sum()    \n",
    "    rush_df = rush_df[rush_cols]\n",
    "    \n",
    "    rush_df.index.name = 'player_id'\n",
    "    \n",
    "    \n",
    "    #assemble penalty stats\n",
    "    pen_df = year_df[(year_df.penalty == 1)]\n",
    "    pen_df = pen_df.infer_objects()\n",
    "    pen_df = pen_df.groupby('penalty_player_id').sum()    \n",
    "    pen_df = pen_df[pen_cols]\n",
    "    \n",
    "    pen_df.index.name = 'player_id'\n",
    "    pen_df = pen_df.drop(pen_df.index[0])\n",
    "    \n",
    "    \n",
    "    #assemble fumble stats\n",
    "    fumb_df = year_df[(year_df.fumble == 1)]\n",
    "    fumb_df = fumb_df.infer_objects()\n",
    "    \n",
    "    fumb_df = fumb_df.groupby('fumbled_1_player_id').sum()    \n",
    "    fumb_df = fumb_df[fumb_cols]\n",
    "    \n",
    "    fumb_df.index.name = 'player_id'\n",
    "    \n",
    "    \n",
    "    #combine stats\n",
    "    comb_df = pd.concat([pass_df, rec_df, rush_df, pen_df, fumb_df]).groupby(['player_id']).sum()\n",
    "    \n",
    "    \n",
    "    #join in player information\n",
    "    player_df = roster_all[(roster_all.season == ii)]\n",
    "    \n",
    "    player_df = player_df.set_index('gsis_id')\n",
    "    player_df.index.name = 'player_id'\n",
    "    \n",
    "    comb_df = comb_df.join(player_df)    \n",
    "    comb_df = comb_df.dropna(subset=['Made_Roster'])\n",
    "    \n",
    "    \n",
    "    #join all data into final dataframe\n",
    "    comb_df = comb_df.fillna(0)\n",
    "   \n",
    "    stats_df = stats_df.append(comb_df)"
   ]
  },
  {
   "cell_type": "code",
   "execution_count": 41,
   "metadata": {},
   "outputs": [],
   "source": [
    "#change the display formats on numbers for simplicity\n",
    "pd.options.display.float_format = '{:,.0f}'.format\n",
    "stats_df['season'] = pd.to_numeric(stats_df['season'], downcast='integer')"
   ]
  },
  {
   "cell_type": "code",
   "execution_count": 42,
   "metadata": {},
   "outputs": [
    {
     "name": "stdout",
     "output_type": "stream",
     "text": [
      "1658\n"
     ]
    },
    {
     "data": {
      "text/html": [
       "<div>\n",
       "<style scoped>\n",
       "    .dataframe tbody tr th:only-of-type {\n",
       "        vertical-align: middle;\n",
       "    }\n",
       "\n",
       "    .dataframe tbody tr th {\n",
       "        vertical-align: top;\n",
       "    }\n",
       "\n",
       "    .dataframe thead th {\n",
       "        text-align: right;\n",
       "    }\n",
       "</style>\n",
       "<table border=\"1\" class=\"dataframe\">\n",
       "  <thead>\n",
       "    <tr style=\"text-align: right;\">\n",
       "      <th></th>\n",
       "      <th>Made_Roster</th>\n",
       "      <th>Passer_Plays</th>\n",
       "      <th>Q1_Plays</th>\n",
       "      <th>Q2_Plays</th>\n",
       "      <th>Q3_Plays</th>\n",
       "      <th>Q4_Plays</th>\n",
       "      <th>Receiver_Plays</th>\n",
       "      <th>Redzone</th>\n",
       "      <th>Run_Plays</th>\n",
       "      <th>Success_Pass</th>\n",
       "      <th>...</th>\n",
       "      <th>rush_yards</th>\n",
       "      <th>season</th>\n",
       "      <th>team</th>\n",
       "      <th>third_down_converted</th>\n",
       "      <th>third_down_failed</th>\n",
       "      <th>touchdown</th>\n",
       "      <th>two_point_converted</th>\n",
       "      <th>two_point_failed</th>\n",
       "      <th>yards_after_catch</th>\n",
       "      <th>yards_gained</th>\n",
       "    </tr>\n",
       "  </thead>\n",
       "  <tbody>\n",
       "    <tr>\n",
       "      <td>00-0000865</td>\n",
       "      <td>0</td>\n",
       "      <td>52</td>\n",
       "      <td>8</td>\n",
       "      <td>22</td>\n",
       "      <td>15</td>\n",
       "      <td>11</td>\n",
       "      <td>0</td>\n",
       "      <td>6</td>\n",
       "      <td>4</td>\n",
       "      <td>19</td>\n",
       "      <td>...</td>\n",
       "      <td>30</td>\n",
       "      <td>2010</td>\n",
       "      <td>PIT</td>\n",
       "      <td>8</td>\n",
       "      <td>20</td>\n",
       "      <td>3</td>\n",
       "      <td>0</td>\n",
       "      <td>0</td>\n",
       "      <td>0</td>\n",
       "      <td>361</td>\n",
       "    </tr>\n",
       "    <tr>\n",
       "      <td>00-0001545</td>\n",
       "      <td>0</td>\n",
       "      <td>35</td>\n",
       "      <td>10</td>\n",
       "      <td>12</td>\n",
       "      <td>6</td>\n",
       "      <td>9</td>\n",
       "      <td>0</td>\n",
       "      <td>8</td>\n",
       "      <td>2</td>\n",
       "      <td>13</td>\n",
       "      <td>...</td>\n",
       "      <td>8</td>\n",
       "      <td>2010</td>\n",
       "      <td>JAC</td>\n",
       "      <td>3</td>\n",
       "      <td>7</td>\n",
       "      <td>3</td>\n",
       "      <td>0</td>\n",
       "      <td>0</td>\n",
       "      <td>0</td>\n",
       "      <td>224</td>\n",
       "    </tr>\n",
       "    <tr>\n",
       "      <td>00-0002110</td>\n",
       "      <td>0</td>\n",
       "      <td>14</td>\n",
       "      <td>2</td>\n",
       "      <td>9</td>\n",
       "      <td>2</td>\n",
       "      <td>1</td>\n",
       "      <td>0</td>\n",
       "      <td>1</td>\n",
       "      <td>0</td>\n",
       "      <td>7</td>\n",
       "      <td>...</td>\n",
       "      <td>0</td>\n",
       "      <td>2010</td>\n",
       "      <td>NYJ</td>\n",
       "      <td>3</td>\n",
       "      <td>3</td>\n",
       "      <td>3</td>\n",
       "      <td>0</td>\n",
       "      <td>0</td>\n",
       "      <td>0</td>\n",
       "      <td>110</td>\n",
       "    </tr>\n",
       "    <tr>\n",
       "      <td>00-0003035</td>\n",
       "      <td>0</td>\n",
       "      <td>0</td>\n",
       "      <td>0</td>\n",
       "      <td>0</td>\n",
       "      <td>2</td>\n",
       "      <td>0</td>\n",
       "      <td>2</td>\n",
       "      <td>1</td>\n",
       "      <td>0</td>\n",
       "      <td>0</td>\n",
       "      <td>...</td>\n",
       "      <td>0</td>\n",
       "      <td>2010</td>\n",
       "      <td>CHI</td>\n",
       "      <td>0</td>\n",
       "      <td>0</td>\n",
       "      <td>0</td>\n",
       "      <td>0</td>\n",
       "      <td>0</td>\n",
       "      <td>5</td>\n",
       "      <td>12</td>\n",
       "    </tr>\n",
       "    <tr>\n",
       "      <td>00-0003292</td>\n",
       "      <td>0</td>\n",
       "      <td>287</td>\n",
       "      <td>53</td>\n",
       "      <td>79</td>\n",
       "      <td>56</td>\n",
       "      <td>105</td>\n",
       "      <td>0</td>\n",
       "      <td>37</td>\n",
       "      <td>6</td>\n",
       "      <td>118</td>\n",
       "      <td>...</td>\n",
       "      <td>5</td>\n",
       "      <td>2010</td>\n",
       "      <td>TEN</td>\n",
       "      <td>29</td>\n",
       "      <td>54</td>\n",
       "      <td>15</td>\n",
       "      <td>1</td>\n",
       "      <td>0</td>\n",
       "      <td>0</td>\n",
       "      <td>1,739</td>\n",
       "    </tr>\n",
       "  </tbody>\n",
       "</table>\n",
       "<p>5 rows × 43 columns</p>\n",
       "</div>"
      ],
      "text/plain": [
       "            Made_Roster  Passer_Plays  Q1_Plays  Q2_Plays  Q3_Plays  Q4_Plays  \\\n",
       "00-0000865            0            52         8        22        15        11   \n",
       "00-0001545            0            35        10        12         6         9   \n",
       "00-0002110            0            14         2         9         2         1   \n",
       "00-0003035            0             0         0         0         2         0   \n",
       "00-0003292            0           287        53        79        56       105   \n",
       "\n",
       "            Receiver_Plays  Redzone  Run_Plays  Success_Pass  ...  rush_yards  \\\n",
       "00-0000865               0        6          4            19  ...          30   \n",
       "00-0001545               0        8          2            13  ...           8   \n",
       "00-0002110               0        1          0             7  ...           0   \n",
       "00-0003035               2        1          0             0  ...           0   \n",
       "00-0003292               0       37          6           118  ...           5   \n",
       "\n",
       "            season  team  third_down_converted  third_down_failed touchdown  \\\n",
       "00-0000865    2010   PIT                     8                 20         3   \n",
       "00-0001545    2010   JAC                     3                  7         3   \n",
       "00-0002110    2010   NYJ                     3                  3         3   \n",
       "00-0003035    2010   CHI                     0                  0         0   \n",
       "00-0003292    2010   TEN                    29                 54        15   \n",
       "\n",
       "            two_point_converted  two_point_failed  yards_after_catch  \\\n",
       "00-0000865                    0                 0                  0   \n",
       "00-0001545                    0                 0                  0   \n",
       "00-0002110                    0                 0                  0   \n",
       "00-0003035                    0                 0                  5   \n",
       "00-0003292                    1                 0                  0   \n",
       "\n",
       "            yards_gained  \n",
       "00-0000865           361  \n",
       "00-0001545           224  \n",
       "00-0002110           110  \n",
       "00-0003035            12  \n",
       "00-0003292         1,739  \n",
       "\n",
       "[5 rows x 43 columns]"
      ]
     },
     "execution_count": 42,
     "metadata": {},
     "output_type": "execute_result"
    }
   ],
   "source": [
    "print(len(stats_df))\n",
    "stats_df.head()"
   ]
  },
  {
   "cell_type": "code",
   "execution_count": 43,
   "metadata": {},
   "outputs": [
    {
     "data": {
      "text/plain": [
       "<matplotlib.legend.Legend at 0x24a5454d7c8>"
      ]
     },
     "execution_count": 43,
     "metadata": {},
     "output_type": "execute_result"
    },
    {
     "data": {
      "image/png": "[encoded data removed]",
      "text/plain": [
       "<Figure size 432x288 with 1 Axes>"
      ]
     },
     "metadata": {
      "needs_background": "light"
     },
     "output_type": "display_data"
    }
   ],
   "source": [
    "ax = stats_df.groupby(['position', 'Made_Roster']).size().unstack().plot(kind='bar', stacked=True)\n",
    "ax.set_ylabel('Player Count')\n",
    "ax.set_xlabel('Position')\n",
    "ax.set_title('Regular Season to Post Season Players by Position(2009-2011)')\n",
    "ax.legend(['No Post', 'Post Season'])"
   ]
  },
  {
   "cell_type": "code",
   "execution_count": 44,
   "metadata": {},
   "outputs": [
    {
     "data": {
      "image/png": "[encoded data removed]",
      "text/plain": [
       "<Figure size 432x288 with 1 Axes>"
      ]
     },
     "metadata": {
      "needs_background": "light"
     },
     "output_type": "display_data"
    }
   ],
   "source": [
    "sns.countplot(x=\"season\", data=stats_df);"
   ]
  },
  {
   "cell_type": "code",
   "execution_count": 45,
   "metadata": {},
   "outputs": [
    {
     "data": {
      "image/png": "[encoded data removed]",
      "text/plain": [
       "<Figure size 432x288 with 1 Axes>"
      ]
     },
     "metadata": {
      "needs_background": "light"
     },
     "output_type": "display_data"
    }
   ],
   "source": [
    "sns.countplot(x=\"season\", data=stats_df[stats_df['Made_Roster'] == 1]);"
   ]
  },
  {
   "cell_type": "code",
   "execution_count": 46,
   "metadata": {},
   "outputs": [
    {
     "data": {
      "image/png": "[encoded data removed]",
      "text/plain": [
       "<Figure size 720x720 with 4 Axes>"
      ]
     },
     "metadata": {
      "needs_background": "light"
     },
     "output_type": "display_data"
    }
   ],
   "source": [
    "f = plt.figure(figsize=(10,10))\n",
    "\n",
    "quarters = [1, 2, 3, 4]\n",
    "for ii, jj in enumerate(quarters):\n",
    "    plt.subplot(2,2,ii+1).set_ylim(0, 50)\n",
    "    plt.title(\"Quarter \" + str(jj))\n",
    "    stats_df['Q' + str(jj) + '_Plays'].groupby(stats_df['Made_Roster']).mean().plot(kind='bar')\n",
    "    plt.ylabel('Average Play Count')\n",
    "    plt.xlabel('')\n",
    "    plt.xticks([0,1], ['No Post', 'Post Season'])\n",
    "    \n",
    "f.subplots_adjust(hspace = .3)"
   ]
  },
  {
   "cell_type": "code",
   "execution_count": 47,
   "metadata": {},
   "outputs": [
    {
     "data": {
      "image/png": "[encoded data removed]",
      "text/plain": [
       "<Figure size 864x288 with 3 Axes>"
      ]
     },
     "metadata": {
      "needs_background": "light"
     },
     "output_type": "display_data"
    }
   ],
   "source": [
    "f = plt.figure(figsize=(12,4))\n",
    "\n",
    "quarters = ['Passer', 'Receiver', 'Run']\n",
    "for ii, jj in enumerate(quarters):\n",
    "    plt.subplot(1,3,ii+1)\n",
    "    plt.title(str(jj) + ' Plays')\n",
    "    plt.ylabel('Count of Plays')\n",
    "    plt.xlabel(' ')\n",
    "    stats_df[str(jj) + '_Plays'].groupby(stats_df['Made_Roster']).mean().plot(kind='bar')\n",
    "    plt.xticks([0,1], ['No Post', 'Post Season'])"
   ]
  },
  {
   "cell_type": "code",
   "execution_count": 48,
   "metadata": {},
   "outputs": [
    {
     "data": {
      "text/plain": [
       "0.778045515394913"
      ]
     },
     "execution_count": 48,
     "metadata": {},
     "output_type": "execute_result"
    }
   ],
   "source": [
    "from sklearn.preprocessing import OneHotEncoder\n",
    "from sklearn.linear_model import LogisticRegression\n",
    "from sklearn.model_selection import train_test_split\n",
    "from sklearn.feature_selection import SelectKBest, f_classif\n",
    "from statistics import mean\n",
    "\n",
    "import warnings\n",
    "warnings.filterwarnings('ignore')\n",
    "\n",
    "X = stats_df.copy()\n",
    "y = stats_df[['Made_Roster']]\n",
    "\n",
    "ohe_df = pd.get_dummies(X.position)\n",
    "X = pd.concat([X, ohe_df], axis=1).drop(columns=['Made_Roster',\n",
    "                                                      'full_player_name', 'abbr_player_name', 'team', 'position', 'season'])\n",
    "\n",
    "feature_names = list(X)\n",
    "\n",
    "score = []\n",
    "\n",
    "for ii in range(1, 31):\n",
    "    X_train, X_test, y_train, y_test = train_test_split(X, y, test_size=0.3, random_state=ii)\n",
    "    \n",
    "    logreg = LogisticRegression(solver='saga')\n",
    "    logreg.fit(X_train, y_train)\n",
    "    score.append(logreg.score(X_test, y_test))\n",
    "    \n",
    "mean(score)"
   ]
  },
  {
   "cell_type": "code",
   "execution_count": 49,
   "metadata": {},
   "outputs": [
    {
     "data": {
      "text/plain": [
       "SelectKBest(k='all', score_func=<function f_classif at 0x0000024A4F11C0D8>)"
      ]
     },
     "execution_count": 49,
     "metadata": {},
     "output_type": "execute_result"
    }
   ],
   "source": [
    "X_train, X_test, y_train, y_test = train_test_split(X, y, test_size=0.3, random_state=100)\n",
    "\n",
    "model_ftest = SelectKBest(score_func=f_classif, k='all')\n",
    "model_ftest.fit(X_train, y_train)"
   ]
  },
  {
   "cell_type": "code",
   "execution_count": 50,
   "metadata": {},
   "outputs": [],
   "source": [
    "ftest_scores = model_ftest.scores_\n",
    "ftest_pvalues = model_ftest.pvalues_"
   ]
  },
  {
   "cell_type": "code",
   "execution_count": 51,
   "metadata": {},
   "outputs": [
    {
     "name": "stdout",
     "output_type": "stream",
     "text": [
      "|    | feature             |   f value |     p-value |\n",
      "|----|---------------------|-----------|-------------|\n",
      "| 10 | Success_Receive     |   63.0432 | 4.75241e-15 |\n",
      "| 27 | receiving_yards     |   58.3434 | 4.59294e-14 |\n",
      "| 35 | yards_after_catch   |   54.2878 | 3.28341e-13 |\n",
      "| 26 | receiving_touchdown |   51.5976 | 1.21655e-12 |\n",
      "| 32 | touchdown           |   47.8719 | 7.51357e-12 |\n",
      "|  5 | Receiver_Plays      |   47.5658 | 8.729e-12   |\n",
      "|  6 | Redzone             |   44.4738 | 3.98292e-11 |\n",
      "|  9 | Success_Play        |   40.6625 | 2.60862e-10 |\n",
      "| 36 | yards_gained        |   39.8166 | 3.96393e-10 |\n",
      "|  3 | Q3_Plays            |   33.2479 | 1.03979e-08 |\n"
     ]
    }
   ],
   "source": [
    "ftest_all = pd.DataFrame(list(zip(feature_names, ftest_scores, ftest_pvalues)), columns=['feature', 'f value', 'p-value'])\n",
    "pd.options.display.float_format = '{:.02f}'.format\n",
    "ftest_all2 = ftest_all.sort_values('p-value').head(10)\n",
    "print(tabulate(ftest_all2, tablefmt=\"github\", headers=\"keys\"))"
   ]
  },
  {
   "cell_type": "code",
   "execution_count": 52,
   "metadata": {},
   "outputs": [
    {
     "name": "stdout",
     "output_type": "stream",
     "text": [
      "31\n"
     ]
    },
    {
     "data": {
      "text/plain": [
       "<matplotlib.axes._subplots.AxesSubplot at 0x24a541c2b88>"
      ]
     },
     "execution_count": 52,
     "metadata": {},
     "output_type": "execute_result"
    },
    {
     "data": {
      "image/png": "[encoded data removed]",
      "text/plain": [
       "<Figure size 864x288 with 1 Axes>"
      ]
     },
     "metadata": {
      "needs_background": "light"
     },
     "output_type": "display_data"
    }
   ],
   "source": [
    "ftest_sig = ftest_all[ftest_all['p-value'] <= .05].sort_values('f value', ascending=False)\n",
    "print(len(ftest_sig))\n",
    "ftest_plot = ftest_sig.head(50)\n",
    "ftest_plot.plot.bar(x='feature', y='f value', title='f value of significant features (p<.05)', figsize=(12,4))"
   ]
  },
  {
   "cell_type": "code",
   "execution_count": null,
   "metadata": {},
   "outputs": [],
   "source": []
  },
  {
   "cell_type": "code",
   "execution_count": 53,
   "metadata": {},
   "outputs": [],
   "source": [
    "StopWatch.stop(\"a\")"
   ]
  },
  {
   "cell_type": "code",
   "execution_count": 54,
   "metadata": {},
   "outputs": [],
   "source": [
    "StopWatch.status(\"a\", True)"
   ]
  },
  {
   "cell_type": "code",
   "execution_count": 55,
   "metadata": {},
   "outputs": [
    {
     "name": "stdout",
     "output_type": "stream",
     "text": [
      "\n",
      "+------------------+--------------------------------------------------------------------+\n",
      "| Attribute        | Value                                                              |\n",
      "|------------------+--------------------------------------------------------------------|\n",
      "| cpu_count        | 8                                                                  |\n",
      "| mem.available    | 8.4 GiB                                                            |\n",
      "| mem.free         | 8.4 GiB                                                            |\n",
      "| mem.percent      | 46.5 %                                                             |\n",
      "| mem.total        | 15.7 GiB                                                           |\n",
      "| mem.used         | 7.3 GiB                                                            |\n",
      "| platform.version | ('10', '10.0.18362', 'SP0', '')                                    |\n",
      "| python           | 3.7.4 (default, Aug  9 2019, 18:34:13) [MSC v.1915 64 bit (AMD64)] |\n",
      "| python.pip       | 19.2.3                                                             |\n",
      "| python.version   | 3.7.4                                                              |\n",
      "| sys.platform     | win32                                                              |\n",
      "| uname.machine    | AMD64                                                              |\n",
      "| uname.node       | WB-8424                                                            |\n",
      "| uname.processor  | Intel64 Family 6 Model 142 Stepping 12, GenuineIntel               |\n",
      "| uname.release    | 10                                                                 |\n",
      "| uname.system     | Windows                                                            |\n",
      "| uname.version    | 10.0.18362                                                         |\n",
      "| user             | travis                                                             |\n",
      "+------------------+--------------------------------------------------------------------+\n",
      "\n",
      "+--------+----------+--------+--------+---------------------+-------+---------+--------+---------+---------------------------------+\n",
      "| Name   | Status   |   Time |    Sum | Start               | tag   | Node    | User   | OS      | Version                         |\n",
      "|--------+----------+--------+--------+---------------------+-------+---------+--------+---------+---------------------------------|\n",
      "| a      | ok       | 36.357 | 36.357 | 2020-11-23 23:08:05 |       | WB-8424 | travis | Windows | ('10', '10.0.18362', 'SP0', '') |\n",
      "+--------+----------+--------+--------+---------------------+-------+---------+--------+---------+---------------------------------+\n",
      "\n",
      "# csv,timer,status,time,sum,start,tag,uname.node,user,uname.system,platform.version\n",
      "# csv,a,ok,36.357,36.357,2020-11-23 23:08:05,,WB-8424,travis,Windows,('10', '10.0.18362', 'SP0', '')\n",
      "\n"
     ]
    }
   ],
   "source": [
    "StopWatch.benchmark()"
   ]
  },
  {
   "cell_type": "code",
   "execution_count": null,
   "metadata": {},
   "outputs": [],
   "source": []
  }
 ],
 "metadata": {
  "kernelspec": {
   "display_name": "Python 3",
   "language": "python",
   "name": "python3"
  },
  "language_info": {
   "codemirror_mode": {
    "name": "ipython",
    "version": 3
   },
   "file_extension": ".py",
   "mimetype": "text/x-python",
   "name": "python",
   "nbconvert_exporter": "python",
   "pygments_lexer": "ipython3",
   "version": "3.7.4"
  }
 },
 "nbformat": 4,
 "nbformat_minor": 2
}
